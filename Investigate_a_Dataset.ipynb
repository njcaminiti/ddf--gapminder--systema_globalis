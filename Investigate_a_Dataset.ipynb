{
 "cells": [
  {
   "cell_type": "markdown",
   "metadata": {},
   "source": [
    "# Investigating the Gapminder Systema Globalis Dataset\n",
    "\n",
    "## Table of Contents\n",
    "<ul>\n",
    "<li><a href=\"#intro\">Introduction</a></li>\n",
    "<li><a href=\"#wrangling\">Data Wrangling</a></li>\n",
    "<li><a href=\"#eda\">Exploratory Data Analysis</a></li>\n",
    "<li><a href=\"#conclusions\">Conclusions</a></li>\n",
    "</ul>"
   ]
  },
  {
   "cell_type": "markdown",
   "metadata": {},
   "source": [
    "<a id='intro'></a>\n",
    "## Introduction\n",
    "\n",
    "The name \"Systema Globalis\" is inspired by [Systema Naturae](https://en.wikipedia.org/wiki/Systema_Naturae); the first systematic compilation of all living things from year 1735, by the Swedish Scientist Carl von Linné. The goal of Systema Globalis is to compile all public statistics; Social, Economic and Environmental; into a comparable total dataset.\n",
    "\n",
    "### Data\n",
    "This is the main dataset used in tools on the official Gapminder website. It contains local &amp; global statistics combined from hundreds of sources.\n",
    "\n",
    "For the purposes of this demonstration, we will be using the glob module for file manipulation, pandas and numpy for working with the data, and matplotlib's basic pyplot suite for visualization.\n",
    "\n",
    "_This exercise is intended to illustrate the choices an analyst must make at each point of the data analysis process, from the initial data-wrangling to the final presentation of findings. The process shown is not being presented as an optimal route. Rather, the intent is to provide a realistic look at how an analyst might approach an unfamiliar dataset, including illustration of the potential pitfalls they may encounter._ "
   ]
  },
  {
   "cell_type": "code",
   "execution_count": 5,
   "metadata": {},
   "outputs": [],
   "source": [
    "import glob\n",
    "import re\n",
    "import pandas as pd\n",
    "import numpy as np\n",
    "import matplotlib.pyplot as plt\n",
    "%matplotlib inline"
   ]
  },
  {
   "cell_type": "markdown",
   "metadata": {},
   "source": [
    "<a id='wrangling'></a>\n",
    "## Data Wrangling\n",
    "\n",
    "The Systema Globalis data consists of longitudinal country-level data on over 500 indicators of social, economic, health, environmental, and other comparative measures. The data on each indicator is contained in its own csv file, organized by country (geo) and year of measurement (time). \n",
    "\n",
    "### General Properties\n",
    "\n",
    "Due to the multi-file structure of this dataset, analysis involving more than one indicator requires file operations to parse, read, and merge the data from each target indicator. The glob module simplifies this process, allowing for filename 'globbing' based on wildcard searches of filenames. This provides one method of subsetting the files and extracting only the data we are interested in analyzing. \n",
    "\n",
    "For example: "
   ]
  },
  {
   "cell_type": "code",
   "execution_count": 6,
   "metadata": {},
   "outputs": [
    {
     "name": "stdout",
     "output_type": "stream",
     "text": [
      "['ddf--datapoints--literacy_rate_adult_female_percent_of_females_ages_15_above--by--geo--time.csv'\n",
      " 'ddf--datapoints--literacy_rate_adult_male_percent_of_males_ages_15_and_above--by--geo--time.csv'\n",
      " 'ddf--datapoints--literacy_rate_adult_total_percent_of_people_ages_15_and_above--by--geo--time.csv'] \n",
      "\n",
      "\n",
      "['ddf--datapoints--energy_from_solid_biofuels_percent--by--geo--time.csv'\n",
      " 'ddf--datapoints--energy_production_per_person--by--geo--time.csv'\n",
      " 'ddf--datapoints--energy_production_total--by--geo--time.csv']\n"
     ]
    }
   ],
   "source": [
    "# Returns only the filenames of 'datapoint' csv files containing literacy data:\n",
    "datafiles_literacy = glob.glob('*datapoints*literacy*.csv')\n",
    "print(np.array(datafiles_literacy)[:3], '\\n\\n')\n",
    "\n",
    "# Returns only the filenames of 'datapoint' csv files containing energy data:\n",
    "datafiles_energy = glob.glob('*datapoints*energy*.csv')\n",
    "print(np.array(datafiles_energy)[:3])"
   ]
  },
  {
   "cell_type": "markdown",
   "metadata": {},
   "source": [
    "In the alternative, we can simply read all of the data into Python, and hold off on trimming it down or subsetting it until after its all been processed.  This will be more computationally intensive than importing only a target subset, and would be impractical (or even impossible) with very large datasets, but there is a certain appeal to compiling all of the relevant data in a single place and while complex, this dataset is not so large to make this too unweildly, so an analyst may opt for this route even though it may bring with it some complications.  "
   ]
  },
  {
   "cell_type": "code",
   "execution_count": 7,
   "metadata": {},
   "outputs": [],
   "source": [
    "datafiles_all = glob.glob('*datapoints*.csv')"
   ]
  },
  {
   "cell_type": "markdown",
   "metadata": {},
   "source": [
    "The gapminder data is particularly well suited to exploratory data analysis because it is largely 'pre-cleaned'. Each table shares a uniform format, making it very easy to read in and merge the data from multiple indicators. \n",
    "\n",
    "While data 'wrangling' can be a complex, time-consuming process, especially when dealing with messy data or data from multiple sources, it can be accomplished here with relative ease."
   ]
  },
  {
   "cell_type": "code",
   "execution_count": 8,
   "metadata": {},
   "outputs": [],
   "source": [
    "# create empty dictionary into which we will read all of our data files\n",
    "ref = {}\n",
    "\n",
    "# loop through filenames, extracting indicator name from filename, and values from each file itself\n",
    "for filename in datafiles_all:\n",
    "    key = filename.partition('datapoints--')[2].partition('--')[0]\n",
    "    data = pd.read_csv(filename)\n",
    "    # index each table by country and cast longitudinal progression to columns \n",
    "    data = data.pivot(index='geo', columns='time')\n",
    "    # incorporate second-level index (indicator name), necessary when merging multiple indicators \n",
    "    data = data.stack(level=0)\n",
    "    data.index.set_names('indicator', level=1, inplace=True)\n",
    "    # dictionary entry: key = indicator name, value = reformatted dataframe\n",
    "    ref[key] = data"
   ]
  },
  {
   "cell_type": "markdown",
   "metadata": {},
   "source": [
    "We now have a reference dictionary containing the entire gapminder dataset. As mentioned eariler, this \"everything in one place\" approach is sub-optimal for a number of reasons, one of which will become apparent soon. \n",
    "\n",
    "We will finish the process by concatenating all of these individual tables into a single master dataframe. Again, we ensured that this would go smoothly by reindexing and reshaping in the previous step."
   ]
  },
  {
   "cell_type": "code",
   "execution_count": 16,
   "metadata": {},
   "outputs": [
    {
     "name": "stdout",
     "output_type": "stream",
     "text": [
      "column names are: Int64Index([1086, 1100, 1279, 1290, 1300, 1309, 1348, 1349, 1351, 1352,\n",
      "            ...\n",
      "            2091, 2092, 2093, 2094, 2095, 2096, 2097, 2098, 2099, 2100],\n",
      "           dtype='int64', name='time', length=409)\n",
      "index names are: ['geo', 'indicator']\n",
      "shape is: (87888, 409)\n",
      "total missing values: 33046225\n",
      "non-missing values: 2899967\n"
     ]
    }
   ],
   "source": [
    "master = pd.concat(ref.values())\n",
    "master = master.sort_index()\n",
    "# let's take a look at some attributes of our master dataframe\n",
    "print(\"column names are:\", master.columns)\n",
    "print(\"index names are:\", master.index.names)\n",
    "print(\"shape is:\", master.shape)\n",
    "print(\"total missing values:\", master.isna().sum().sum())\n",
    "print(\"non-missing values:\", master.count().sum())"
   ]
  },
  {
   "cell_type": "markdown",
   "metadata": {},
   "source": [
    "__Whoa__, this is a bit of a mess. There are datapoints going back all the way to the 11th century, and there are even points out into the future! How is that possible? \n",
    "\n",
    "Furthermore, our table contains over 33 million missing values, and fewer than 3 million actual values. In other words, the majority of our dataframe is pretty much useless.\n",
    "\n",
    "A closer look at our indicators shows that while most of the indicators contain observed values, some are projections. This explains the values for future years. We could fix this by not loading in those particular indicators, or by filtering our data to a specific timeframe. \n",
    "\n",
    "How about those missing values though?  Let's take a closer look:"
   ]
  },
  {
   "cell_type": "code",
   "execution_count": 24,
   "metadata": {},
   "outputs": [
    {
     "name": "stdout",
     "output_type": "stream",
     "text": [
      "count      409.000000\n",
      "mean      7090.383863\n",
      "std      11610.421421\n",
      "min          1.000000\n",
      "25%         70.000000\n",
      "50%       3874.000000\n",
      "75%       4998.000000\n",
      "max      59140.000000\n",
      "dtype: float64\n"
     ]
    }
   ],
   "source": [
    "print(master.count().describe())"
   ]
  },
  {
   "cell_type": "markdown",
   "metadata": {},
   "source": [
    "Ok, that explains a lot. If there were no values missing in our table, we would expect to see almost 88,000 observations for each year. Here we see that 75% of years contain fewer than 5000 observations, that there is at least one year that contains only 1 single value, and that even the year for which we have the most information still contains almost 30,000 missing values.   "
   ]
  },
  {
   "cell_type": "code",
   "execution_count": 27,
   "metadata": {},
   "outputs": [
    {
     "data": {
      "text/plain": [
       "(array([  4.,   6.,   8.,   4.,  10.,   7.,   9.,  11.,  25., 325.]),\n",
       " array([28860. , 34773.9, 40687.8, 46601.7, 52515.6, 58429.5, 64343.4,\n",
       "        70257.3, 76171.2, 82085.1, 87999. ]),\n",
       " <a list of 10 Patch objects>)"
      ]
     },
     "execution_count": 27,
     "metadata": {},
     "output_type": "execute_result"
    },
    {
     "data": {
      "image/png": "[encoded data removed]",
      "text/plain": [
       "<Figure size 432x288 with 1 Axes>"
      ]
     },
     "metadata": {},
     "output_type": "display_data"
    }
   ],
   "source": [
    "plt.xlabel('missing observations')\n",
    "plt.ylabel('# of columns')\n",
    "plt.hist(88000 - master.count())"
   ]
  },
  {
   "cell_type": "markdown",
   "metadata": {},
   "source": [
    "### Data Cleaning\n",
    "In our attempt to put everything in one place, we created a HUGE but mostly empty dataset. The most obvious culprits based on our cursory look are the very early years that contain very few observations, and the future (projection) years which also contain relatively few observations. \n",
    "\n",
    "There are some less obvious complications though:\n",
    "1) Countries whose names change\n",
    "2) Countries for which very little data has been collected\n",
    "3) Indicators which only contain data for a limited timeframe\n",
    "\n",
    "These can each be addressed, whether by \n",
    "1) limiting the scope of analysis to only certain countries, \n",
    "2) certain indicators, or \n",
    "3) certain time-periods \n",
    "\n",
    "Each of these solutions moves us away from the 'everything in one place' approach we were initially going for, but would also prevent the replication of tons of empty values.\n",
    "\n",
    "What follows are two examples of how the assembly process used earlier could have been modified to reduce the size of the dataframe output based on user-determined filtering criteria. "
   ]
  },
  {
   "cell_type": "code",
   "execution_count": 28,
   "metadata": {},
   "outputs": [],
   "source": [
    "# Filtering by time and indicator \n",
    "d1 = {}\n",
    "\n",
    "for filename in datafiles_all:\n",
    "    # read in only filenames containing certain keywords\n",
    "    if re.search('income|cancer.deaths.*100000', filename):\n",
    "        key = filename.partition('datapoints--')[2].partition('--')[0]\n",
    "        data = pd.read_csv(filename)\n",
    "        # 'pre-cleaning' step to exclude data from earlier than 1950, and exclude projections\n",
    "        data = data[data.time >= 1950]\n",
    "        data = data[data.time <= 2018] \n",
    "        data = data.pivot(index='geo', columns='time')\n",
    "        data = data.stack(level=0)\n",
    "        data.index.set_names('indicator', level=1, inplace=True)\n",
    "        d1[key] = data"
   ]
  },
  {
   "cell_type": "code",
   "execution_count": 29,
   "metadata": {},
   "outputs": [],
   "source": [
    "# Filtering by time and country\n",
    "d2 = {}\n",
    "\n",
    "for filename in datafiles_all:\n",
    "    key = filename.partition('datapoints--')[2].partition('--')[0]\n",
    "    data = pd.read_csv(filename)\n",
    "    data = data[data.time >= 1950]\n",
    "    data = data[data.time <= 2018] \n",
    "    # from each indicator, retain only the data for the following five countries\n",
    "    data = data.loc[(data.geo == 'usa') | (data.geo == 'ger') | (data.geo == 'chi') |\n",
    "                    (data.geo == 'jap') | (data.geo == 'aus')]\n",
    "    data = data.pivot(index='geo', columns='time')\n",
    "    data = data.stack(level=0)\n",
    "    data.index.set_names('indicator', level=1, inplace=True)\n",
    "    d2[key] = data"
   ]
  },
  {
   "cell_type": "code",
   "execution_count": 83,
   "metadata": {},
   "outputs": [
    {
     "name": "stdout",
     "output_type": "stream",
     "text": [
      "column bounds are: (1950, 2018)\n",
      "shape of t1 is: (4547, 69)\n",
      "total missing values in t1: 199787\n",
      "non-missing values in t1: 113956 \n",
      "\n",
      "shape of t2 is: (1004, 69)\n",
      "total missing values in t2: 41420\n",
      "non-missing values in t2: 27856\n"
     ]
    }
   ],
   "source": [
    "t1 = pd.concat(d1.values())\n",
    "t1 = t1.sort_index()\n",
    "print(\"column bounds are:\", (t1.columns.min(), t1.columns.max()))\n",
    "print(\"shape of t1 is:\", t1.shape)\n",
    "print(\"total missing values in t1:\", t1.isna().sum().sum())\n",
    "print(\"non-missing values in t1:\", t1.count().sum(), '\\n')\n",
    "\n",
    "t2 = pd.concat(d2.values())\n",
    "t2 = t2.sort_index()\n",
    "print(\"shape of t2 is:\", t2.shape)\n",
    "print(\"total missing values in t2:\", t2.isna().sum().sum())\n",
    "print(\"non-missing values in t2:\", t2.count().sum())"
   ]
  },
  {
   "cell_type": "markdown",
   "metadata": {},
   "source": [
    "As you can see, by limiting the data we read in during our initial sweep of the datafile directory, we reduced the size of our working datasets, and also dramatically cut down on the number of missing values we would now have to deal with during analysis. \n",
    "\n",
    "Of course, we could accomplish the same thing by simply subsetting our comprehensive (but bloated) 'master' dataset since we've already assembled it. "
   ]
  },
  {
   "cell_type": "code",
   "execution_count": 75,
   "metadata": {},
   "outputs": [
    {
     "name": "stdout",
     "output_type": "stream",
     "text": [
      "True\n"
     ]
    }
   ],
   "source": [
    "# Filtering by time and indicator\n",
    "\n",
    "master_t1 = master.loc[:, 1950:2018].filter(regex='income|cancer.deaths.*100000', axis=0)\n",
    "print(master_t1.shape == t1.shape)"
   ]
  },
  {
   "cell_type": "code",
   "execution_count": 121,
   "metadata": {},
   "outputs": [
    {
     "name": "stdout",
     "output_type": "stream",
     "text": [
      "True\n"
     ]
    }
   ],
   "source": [
    "# Filtering by time and country\n",
    "\n",
    "master_t2 = master.loc[['usa', 'ger', 'chi', 'jap', 'aus'], 1950:2018].dropna(how='all', axis=0)\n",
    "print(master_t2.shape == t2.shape)"
   ]
  },
  {
   "cell_type": "markdown",
   "metadata": {},
   "source": [
    "In this case, neither approach is purely 'better' or 'worse', but as noted before, the performance burden of creating a comprehensive dataset could be dramatic with larger multi-dimensional data-sets, so pre-processing is generally preferred. "
   ]
  },
  {
   "cell_type": "markdown",
   "metadata": {},
   "source": [
    "<a id='eda'></a>\n",
    "## Exploratory Data Analysis\n",
    "\n",
    "> **Tip**: Now that you've trimmed and cleaned your data, you're ready to move on to exploration. Compute statistics and create visualizations with the goal of addressing the research questions that you posed in the Introduction section. It is recommended that you be systematic with your approach. Look at one variable at a time, and then follow it up by looking at relationships between variables.\n",
    "\n",
    "### Research Question 1 (Replace this header name!)"
   ]
  },
  {
   "cell_type": "code",
   "execution_count": null,
   "metadata": {},
   "outputs": [],
   "source": [
    "# Use this, and more code cells, to explore your data. Don't forget to add\n",
    "#   Markdown cells to document your observations and findings.\n"
   ]
  },
  {
   "cell_type": "markdown",
   "metadata": {},
   "source": [
    "### Research Question 2  (Replace this header name!)"
   ]
  },
  {
   "cell_type": "code",
   "execution_count": null,
   "metadata": {},
   "outputs": [],
   "source": [
    "# Continue to explore the data to address your additional research\n",
    "#   questions. Add more headers as needed if you have more questions to\n",
    "#   investigate.\n"
   ]
  },
  {
   "cell_type": "markdown",
   "metadata": {},
   "source": [
    "<a id='conclusions'></a>\n",
    "## Conclusions\n",
    "\n",
    "> **Tip**: Finally, summarize your findings and the results that have been performed. Make sure that you are clear with regards to the limitations of your exploration. If you haven't done any statistical tests, do not imply any statistical conclusions. And make sure you avoid implying causation from correlation!\n",
    "\n",
    "> **Tip**: Once you are satisfied with your work here, check over your report to make sure that it is satisfies all the areas of the rubric (found on the project submission page at the end of the lesson). You should also probably remove all of the \"Tips\" like this one so that the presentation is as polished as possible.\n",
    "\n",
    "## Submitting your Project \n",
    "\n",
    "> Before you submit your project, you need to create a .html or .pdf version of this notebook in the workspace here. To do that, run the code cell below. If it worked correctly, you should get a return code of 0, and you should see the generated .html file in the workspace directory (click on the orange Jupyter icon in the upper left).\n",
    "\n",
    "> Alternatively, you can download this report as .html via the **File** > **Download as** submenu, and then manually upload it into the workspace directory by clicking on the orange Jupyter icon in the upper left, then using the Upload button.\n",
    "\n",
    "> Once you've done this, you can submit your project by clicking on the \"Submit Project\" button in the lower right here. This will create and submit a zip file with this .ipynb doc and the .html or .pdf version you created. Congratulations!"
   ]
  },
  {
   "cell_type": "code",
   "execution_count": null,
   "metadata": {},
   "outputs": [],
   "source": [
    "from subprocess import call\n",
    "call(['python', '-m', 'nbconvert', 'Investigate_a_Dataset.ipynb'])"
   ]
  }
 ],
 "metadata": {
  "kernelspec": {
   "display_name": "Python [default]",
   "language": "python",
   "name": "python3"
  },
  "language_info": {
   "codemirror_mode": {
    "name": "ipython",
    "version": 3
   },
   "file_extension": ".py",
   "mimetype": "text/x-python",
   "name": "python",
   "nbconvert_exporter": "python",
   "pygments_lexer": "ipython3",
   "version": "3.6.5"
  }
 },
 "nbformat": 4,
 "nbformat_minor": 2
}
